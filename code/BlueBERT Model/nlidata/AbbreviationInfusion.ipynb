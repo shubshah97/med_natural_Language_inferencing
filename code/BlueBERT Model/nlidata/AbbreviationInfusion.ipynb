{
 "cells": [
  {
   "cell_type": "code",
   "execution_count": null,
   "metadata": {},
   "outputs": [],
   "source": [
    "import pandas as pd\n",
    "import numpy as np\n"
   ]
  },
  {
   "cell_type": "code",
   "execution_count": null,
   "metadata": {},
   "outputs": [],
   "source": [
    "abbreviations = pd.read_csv(\"medical_abbreviations.csv\")\n",
    "abbreviationslist = abbreviations[\"Abbreviation/Shorthand\"].str.lower().to_list()\n",
    "abbreviationsmeaning = abbreviations[\"Meaning\"].to_list()\n"
   ]
  },
  {
   "cell_type": "code",
   "execution_count": null,
   "metadata": {},
   "outputs": [],
   "source": [
    "columnsneeded = ['gold_label',\"index\",\"sentence1\",\"sentence2\"]\n",
    "mednlitrain = pd.read_json('nliraw/train/mli_train_v1.jsonl', lines = True).reset_index()[columnsneeded]\n",
    "\n",
    "\n"
   ]
  },
  {
   "cell_type": "code",
   "execution_count": null,
   "metadata": {},
   "outputs": [],
   "source": []
  },
  {
   "cell_type": "code",
   "execution_count": null,
   "metadata": {},
   "outputs": [],
   "source": [
    "test_dataframe= pd.DataFrame([], columns = columnsneeded)\n",
    "for i in test_files[:-1]:\n",
    "    temp_dataFrame = pd.read_json(i,lines = True)\n",
    "    test_dataframe = pd.concat([test_dataframe,temp_dataFrame])\n",
    "test_dataframe = test_dataframe.reset_index()"
   ]
  },
  {
   "cell_type": "code",
   "execution_count": null,
   "metadata": {},
   "outputs": [],
   "source": [
    "dev_dataframe= pd.DataFrame([], columns = columnsneeded)\n",
    "for i in dev_files:\n",
    "    temp_dataFrame = pd.read_json(i,lines = True)\n",
    "    dev_dataframe = pd.concat([dev_dataframe,temp_dataFrame])\n",
    "dev_dataframe = dev_dataframe.reset_index()"
   ]
  },
  {
   "cell_type": "code",
   "execution_count": null,
   "metadata": {},
   "outputs": [],
   "source": [
    "for i in range(len(abbreviationslist)):\n",
    "        test_dataframe.sentence1 = test_dataframe.sentence1.apply(lambda x : re.sub(r'\\b{}\\b'.format(abbreviationslist[i]),\"{}\".format(abbreviationsmeaning[i]),x))\n",
    "        test_dataframe.sentence2 = test_dataframe.sentence2.apply(lambda x : re.sub(r'\\b{}\\b'.format(abbreviationslist[i]),\"{}\".format(abbreviationsmeaning[i]),x)) \n",
    "        mednlitrain.sentence1 = mednlitrain.sentence1.apply(lambda x : re.sub(r'\\b{}\\b'.format(abbreviationslist[i]),\"{}\".format(abbreviationsmeaning[i]),x))\n",
    "        mednlitrain.sentence2 = mednlitrain.sentence2.apply(lambda x : re.sub(r'\\b{}\\b'.format(abbreviationslist[i]),\"{}\".format(abbreviationsmeaning[i]),x))\n"
   ]
  },
  {
   "cell_type": "code",
   "execution_count": null,
   "metadata": {},
   "outputs": [],
   "source": [
    "mednlitrain[columnsneeded].to_csv(\"train.tsv\",sep = \"\\t\", index = False, encoding = \"UTF-8\")\n",
    "test_dataframe[columnsneeded].to_csv(\"train.tsv\",sep = \"\\t\", index = False, encoding = \"UTF-8\")\n",
    "dev_dataframe[columnsneeded].to_csv(\"dev.tsv\",sep = \"\\t\", index = False, encoding = \"UTF-8\")"
   ]
  }
 ],
 "metadata": {
  "kernelspec": {
   "display_name": "Python 3",
   "language": "python",
   "name": "python3"
  },
  "language_info": {
   "codemirror_mode": {
    "name": "ipython",
    "version": 3
   },
   "file_extension": ".py",
   "mimetype": "text/x-python",
   "name": "python",
   "nbconvert_exporter": "python",
   "pygments_lexer": "ipython3",
   "version": "3.8.3"
  }
 },
 "nbformat": 4,
 "nbformat_minor": 4
}
